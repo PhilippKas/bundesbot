{
 "cells": [
  {
   "cell_type": "code",
   "execution_count": 24,
   "metadata": {},
   "outputs": [],
   "source": [
    "from env import api_key\n",
    "\n",
    "from langchain_openai import ChatOpenAI\n",
    "\n",
    "llm = ChatOpenAI(model=\"gpt-4o-mini\", openai_api_key = api_key)"
   ]
  },
  {
   "cell_type": "code",
   "execution_count": 25,
   "metadata": {},
   "outputs": [],
   "source": [
    "from langchain_openai import OpenAIEmbeddings\n",
    "\n",
    "embeddings = OpenAIEmbeddings(model=\"text-embedding-3-large\", openai_api_key = api_key)"
   ]
  },
  {
   "cell_type": "code",
   "execution_count": 26,
   "metadata": {},
   "outputs": [],
   "source": [
    "from langchain_chroma import Chroma\n",
    "\n",
    "vector_store = Chroma(embedding_function=embeddings, persist_directory = \"./chroma_db\")"
   ]
  },
  {
   "cell_type": "code",
   "execution_count": 27,
   "metadata": {},
   "outputs": [],
   "source": [
    "import bs4\n",
    "from langchain import hub\n",
    "from langchain_community.document_loaders import WebBaseLoader\n",
    "from langchain_core.documents import Document\n",
    "from langchain_text_splitters import RecursiveCharacterTextSplitter\n",
    "from langgraph.graph import START, StateGraph\n",
    "from typing_extensions import List, TypedDict"
   ]
  },
  {
   "cell_type": "code",
   "execution_count": null,
   "metadata": {},
   "outputs": [
    {
     "name": "stdout",
     "output_type": "stream",
     "text": [
      "https://mehr.spd.de/custom-static-assets/documents/Regierungsprogramm.pdf\n",
      "https://www.politikwechsel.cdu.de/sites/www.politikwechsel.cdu.de/files/docs/politikwechsel-fuer-deutschland-wahlprogramm-von-cdu-csu-1.pdf\n",
      "https://cms.gruene.de/uploads/assets/20241216_BTW25_Programmentwurf_DINA4_digital.pdf\n",
      "https://www.fdp.de/sites/default/files/2024-12/fdp-wahlprogramm_2025.pdf\n",
      "Leitantrag-Bundestagswahlprogramm-2025.pdf\n",
      "https://www.die-linke.de/fileadmin/user_upload/Wahlprogramm_Langfassung_Linke-BTW25_01.pdf\n",
      "https://bsw-vg.de/wp-content/themes/bsw/assets/downloads/BSW%20Wahlprogramm%202025.pdf\n"
     ]
    }
   ],
   "source": [
    "from langchain_community.document_loaders import PyPDFLoader\n",
    "\n",
    "pages = []\n",
    "for pdf in [\n",
    "    \"https://mehr.spd.de/custom-static-assets/documents/Regierungsprogramm.pdf\",\n",
    "    \"https://www.politikwechsel.cdu.de/sites/www.politikwechsel.cdu.de/files/docs/politikwechsel-fuer-deutschland-wahlprogramm-von-cdu-csu-1.pdf\",\n",
    "    \"https://cms.gruene.de/uploads/assets/20241216_BTW25_Programmentwurf_DINA4_digital.pdf\",\n",
    "    \"https://www.fdp.de/sites/default/files/2024-12/fdp-wahlprogramm_2025.pdf\",\n",
    "    \"Leitantrag-Bundestagswahlprogramm-2025.pdf\",\n",
    "    \"https://www.die-linke.de/fileadmin/user_upload/Wahlprogramm_Langfassung_Linke-BTW25_01.pdf\",\n",
    "    \"https://bsw-vg.de/wp-content/themes/bsw/assets/downloads/BSW%20Wahlprogramm%202025.pdf\"\n",
    "]:  \n",
    "    print(pdf)\n",
    "    loader = PyPDFLoader(pdf)\n",
    "    async for page in loader.alazy_load():\n",
    "        pages.append(page)"
   ]
  },
  {
   "cell_type": "code",
   "execution_count": 31,
   "metadata": {},
   "outputs": [],
   "source": [
    "text_splitter = RecursiveCharacterTextSplitter(chunk_size=300, chunk_overlap=50)\n",
    "all_splits = text_splitter.split_documents(pages)\n",
    "_ = vector_store.add_documents(documents=all_splits)"
   ]
  },
  {
   "cell_type": "code",
   "execution_count": 32,
   "metadata": {},
   "outputs": [
    {
     "name": "stderr",
     "output_type": "stream",
     "text": [
      "/root/projects/bundesbot/backend/venv/lib/python3.10/site-packages/langsmith/client.py:253: LangSmithMissingAPIKeyWarning: API key must be provided when using hosted LangSmith API\n",
      "  warnings.warn(\n"
     ]
    }
   ],
   "source": [
    "# Define prompt for question-answering\n",
    "prompt = hub.pull(\"rlm/rag-prompt\")\n",
    "\n",
    "\n",
    "# Define state for application\n",
    "class State(TypedDict):\n",
    "    question: str\n",
    "    context: List[Document]\n",
    "    answer: str\n",
    "\n",
    "\n",
    "# Define application steps\n",
    "def retrieve(state: State):\n",
    "    retrieved_docs = vector_store.similarity_search(state[\"question\"])\n",
    "    return {\"context\": retrieved_docs}\n",
    "\n",
    "\n",
    "def generate(state: State):\n",
    "    docs_content = \"\\n\\n\".join(doc.page_content for doc in state[\"context\"])\n",
    "    messages = prompt.invoke({\"question\": state[\"question\"], \"context\": docs_content})\n",
    "    response = llm.invoke(messages)\n",
    "    return {\"answer\": response.content}\n",
    "\n",
    "\n",
    "# Compile application and test\n",
    "graph_builder = StateGraph(State).add_sequence([retrieve, generate])\n",
    "graph_builder.add_edge(START, \"retrieve\")\n",
    "graph = graph_builder.compile()"
   ]
  },
  {
   "cell_type": "code",
   "execution_count": 34,
   "metadata": {},
   "outputs": [
    {
     "name": "stdout",
     "output_type": "stream",
     "text": [
      "Context: [Document(id='45d97e85-ea90-41d7-9436-cc1558d62131', metadata={'page': 28, 'page_label': '29', 'source': 'https://mehr.spd.de/custom-static-assets/documents/Regierungsprogramm.pdf'}, page_content='29\\nMehr für Dich. Besser für Deutschland.\\nRegierungsprogramm der SPD für die Bundestagswahl 2025\\nDer Finanzausgleich zwischen den Krankenkassen soll gerechter ausgestaltet werden, und auch \\ndie privaten Versicherungen sollen zum Risikostrukturausgleich beitragen. Ein solidarisches'), Document(id='80dd2bbe-80a3-43a4-89aa-d4887fcff230', metadata={'page': 32, 'page_label': '34', 'source': 'https://www.fdp.de/sites/default/files/2024-12/fdp-wahlprogramm_2025.pdf'}, page_content='Krankenversicherung. Daher lehnen wir eine Einheitskasse (sog. Bürgersversicherung) ab. In beiden \\nVersicherungssystemen wollen wir Wechsel- und Wahlfreiheit der Versicherten stärken. Um die \\nungebremste Leistungsausgabenentwicklung in der GKV in den Griff zu bekommen, sollen in Zukunft'), Document(id='eec68d72-9deb-42c7-98a6-c28e246695de', metadata={'page': 25, 'page_label': '26', 'source': 'https://bsw-vg.de/wp-content/themes/bsw/assets/downloads/BSW%20Wahlprogramm%202025.pdf'}, page_content='Bündnis Sahra Wagenknecht - Vernunft und Gerechtigkeit\\nGlinkastr. 32 · 10117 Berlin · www.bsw-vg.de 26\\nGesundheit und Pflege:  \\nSchluss mit Renditejagd und  \\nZwei-Klassen-Medizin\\nWohlbefinden, Menschenwürde und Autono -\\nmie der Patienten müssen das übergeordnete'), Document(id='046fa94e-2eee-4cc9-9405-791947f2cdb3', metadata={'page': 25, 'page_label': '26', 'source': 'Leitantrag-Bundestagswahlprogramm-2025.pdf'}, page_content='26 \\nBundesgeschäftsstelle der Partei Alternative für Deutschland | Eichhorster Weg 80 | 13435 Berlin \\nbeitragsfreie Mitversicherung der Bürgergeld empfänger, die heute zu Zweidritteln vom 861 \\nBeitragszahler finanziert wird, zukünf tig vollständig aus dem Bundeshaushalt 862')]\n",
      "\n",
      "\n",
      "Answer: Die Linke befürwortet eine Einheitskasse und lehnt den bestehenden Wettbewerb zwischen Kassen ab, während die AfD diese Einheitspolitik ablehnt und stattdessen eine stärkere Beitragsfreiheit und Finanzierung durch den Bundeshaushalt anstrebt. Die Linke setzt auf Solidarität und Chancengleichheit im Gesundheitssystem, während die AfD mehr auf individuelle Freiheit und finanzielle Entlastung der Beitragszahler fokussiert ist. Beide Parteien zeigen Strongpoints, jedoch in gegensätzlichen Ansätzen zur Krankenkassenpolitik.\n"
     ]
    }
   ],
   "source": [
    "result = graph.invoke({\"question\": \"Kannst du die Positionen zu Krankenkassen von Linken und AfD vergleichen?\"})\n",
    "\n",
    "print(f'Context: {result[\"context\"]}\\n\\n')\n",
    "print(f'Answer: {result[\"answer\"]}')"
   ]
  },
  {
   "cell_type": "code",
   "execution_count": null,
   "metadata": {},
   "outputs": [],
   "source": []
  }
 ],
 "metadata": {
  "kernelspec": {
   "display_name": "venv",
   "language": "python",
   "name": "python3"
  },
  "language_info": {
   "codemirror_mode": {
    "name": "ipython",
    "version": 3
   },
   "file_extension": ".py",
   "mimetype": "text/x-python",
   "name": "python",
   "nbconvert_exporter": "python",
   "pygments_lexer": "ipython3",
   "version": "3.10.12"
  }
 },
 "nbformat": 4,
 "nbformat_minor": 2
}
